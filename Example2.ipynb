{
 "cells": [
  {
   "cell_type": "code",
   "execution_count": null,
   "metadata": {},
   "outputs": [],
   "source": []
  },
  {
   "cell_type": "code",
   "execution_count": 1,
   "metadata": {},
   "outputs": [],
   "source": [
    "from pprint import pprint\n",
    "from pyspark.sql import SparkSession\n",
    "from pyspark.sql.functions import col\n",
    "from pyspark.sql.types import FloatType\n",
    "\n",
    "# New API\n",
    "spark_session = SparkSession\\\n",
    "        .builder\\\n",
    "        .master(\"spark://192.168.2.113:7077\") \\\n",
    "        .appName(\"CAR PARKING FINES\")\\\n",
    "        .config(\"spark.executor.cores\",2)\\\n",
    "        .getOrCreate()\n",
    "\n",
    "#.master(\"spark://ben-spark-master:7077\") \\\n",
    "# Old API (RDD)\n",
    "spark_context = spark_session.sparkContext\n",
    "\n",
    "data_frame = spark_session.read\\\n",
    "    .option(\"header\", \"true\")\\\n",
    "    .csv('hdfs://192.168.2.113:9000/parking-citations.csv')\\\n",
    "    .cache()"
   ]
  },
  {
   "cell_type": "raw",
   "metadata": {},
   "source": [
    "#park = spark_context.textFile(\"hdfs://192.168.2.113:9000/parking-citations.csv\")\n",
    "#df = spark.read.csv(\"hdfs://192.168.2.113:9000/parking-citations.csv\")  "
   ]
  },
  {
   "cell_type": "code",
   "execution_count": 2,
   "metadata": {},
   "outputs": [
    {
     "data": {
      "text/plain": [
       "<bound method DataFrame.show of DataFrame[Ticket number: string, Issue Date: string, Issue time: string, Meter Id: string, Marked Time: string, RP State Plate: string, Plate Expiry Date: string, VIN: string, Make: string, Body Style: string, Color: string, Location: string, Route: string, Agency: string, Violation code: string, Violation Description: string, Fine amount: string, Latitude: string, Longitude: string]>"
      ]
     },
     "execution_count": 2,
     "metadata": {},
     "output_type": "execute_result"
    }
   ],
   "source": [
    "data_frame.show"
   ]
  },
  {
   "cell_type": "markdown",
   "metadata": {},
   "source": [
    "## B2 Print the schema for the DataFrame."
   ]
  },
  {
   "cell_type": "code",
   "execution_count": 3,
   "metadata": {},
   "outputs": [
    {
     "name": "stdout",
     "output_type": "stream",
     "text": [
      "root\n",
      " |-- Ticket number: string (nullable = true)\n",
      " |-- Issue Date: string (nullable = true)\n",
      " |-- Issue time: string (nullable = true)\n",
      " |-- Meter Id: string (nullable = true)\n",
      " |-- Marked Time: string (nullable = true)\n",
      " |-- RP State Plate: string (nullable = true)\n",
      " |-- Plate Expiry Date: string (nullable = true)\n",
      " |-- VIN: string (nullable = true)\n",
      " |-- Make: string (nullable = true)\n",
      " |-- Body Style: string (nullable = true)\n",
      " |-- Color: string (nullable = true)\n",
      " |-- Location: string (nullable = true)\n",
      " |-- Route: string (nullable = true)\n",
      " |-- Agency: string (nullable = true)\n",
      " |-- Violation code: string (nullable = true)\n",
      " |-- Violation Description: string (nullable = true)\n",
      " |-- Fine amount: string (nullable = true)\n",
      " |-- Latitude: string (nullable = true)\n",
      " |-- Longitude: string (nullable = true)\n",
      "\n"
     ]
    }
   ],
   "source": [
    "data_frame.printSchema()"
   ]
  },
  {
   "cell_type": "markdown",
   "metadata": {},
   "source": [
    "## B.3 Count the number of rows in the CSV file."
   ]
  },
  {
   "cell_type": "code",
   "execution_count": 4,
   "metadata": {},
   "outputs": [
    {
     "data": {
      "text/plain": [
       "9257460"
      ]
     },
     "execution_count": 4,
     "metadata": {},
     "output_type": "execute_result"
    }
   ],
   "source": [
    "data_frame.count()"
   ]
  },
  {
   "cell_type": "markdown",
   "metadata": {},
   "source": [
    "## B.4 Count the number of partitions in the underlying RDD."
   ]
  },
  {
   "cell_type": "code",
   "execution_count": 5,
   "metadata": {},
   "outputs": [
    {
     "data": {
      "text/plain": [
       "40"
      ]
     },
     "execution_count": 5,
     "metadata": {},
     "output_type": "execute_result"
    }
   ],
   "source": [
    "data_frame.rdd.getNumPartitions()"
   ]
  },
  {
   "cell_type": "markdown",
   "metadata": {},
   "source": [
    "## B.5 Drop the columns VIN, Latitude and Longitude."
   ]
  },
  {
   "cell_type": "code",
   "execution_count": 6,
   "metadata": {},
   "outputs": [],
   "source": [
    "drop_frame = data_frame.select([c for c in data_frame.columns if c not in {'VIN', 'Latitude','Longitude'}])"
   ]
  },
  {
   "cell_type": "markdown",
   "metadata": {},
   "source": [
    "## B.6 Find the maximum fine amount. How many fines have this amount? You need to convert the ‘fine amount’ column to a float to do this correctly."
   ]
  },
  {
   "cell_type": "code",
   "execution_count": 7,
   "metadata": {},
   "outputs": [
    {
     "name": "stdout",
     "output_type": "stream",
     "text": [
      "+-------------+-------------------+----------+--------+-----------+--------------+-----------------+----+----------+-----+--------------------+-----+------+--------------+---------------------+-----------+\n",
      "|Ticket number|         Issue Date|Issue time|Meter Id|Marked Time|RP State Plate|Plate Expiry Date|Make|Body Style|Color|            Location|Route|Agency|Violation code|Violation Description|Fine amount|\n",
      "+-------------+-------------------+----------+--------+-----------+--------------+-----------------+----+----------+-----+--------------------+-----+------+--------------+---------------------+-----------+\n",
      "|   1103341116|2015-12-21T00:00:00|      1251|    null|       null|            CA|           200304|HOND|        PA|   GY|     13147 WELBY WAY|01521|     1|        4000A1|   NO EVIDENCE OF REG|         50|\n",
      "|   1103700150|2015-12-21T00:00:00|      1435|    null|       null|            CA|           201512| GMC|        VN|   WH|       525 S MAIN ST| 1C51|     1|        4000A1|   NO EVIDENCE OF REG|         50|\n",
      "|   1104803000|2015-12-21T00:00:00|      2055|    null|       null|            CA|           201503|NISS|        PA|   BK|       200 WORLD WAY|  2R2|     2|          8939|           WHITE CURB|         58|\n",
      "|   1104820732|2015-12-26T00:00:00|      1515|    null|       null|            CA|             null|ACUR|        PA|   WH|       100 WORLD WAY| 2F11|     2|           000|               17104h|       null|\n",
      "|   1105461453|2015-09-15T00:00:00|       115|    null|       null|            CA|           200316|CHEV|        PA|   BK|  GEORGIA ST/OLYMPIC|1FB70|     1|         8069A| NO STOPPING/STANDING|         93|\n",
      "|   1106226590|2015-09-15T00:00:00|        19|    null|       null|            CA|           201507|CHEV|        VN|   GY|  SAN PEDRO S/O BOYD|1A35W|     1|        4000A1|   NO EVIDENCE OF REG|         50|\n",
      "|   1106500452|2015-12-17T00:00:00|      1710|    null|       null|            CA|           201605|MAZD|        PA|   BL|     SUNSET/ALVARADO|00217|     1|          8070| PARK IN GRID LOCK ZN|        163|\n",
      "|   1106500463|2015-12-17T00:00:00|      1710|    null|       null|            CA|           201602|TOYO|        PA|   BK|     SUNSET/ALVARADO|00217|     1|          8070| PARK IN GRID LOCK ZN|        163|\n",
      "|   1106506402|2015-12-22T00:00:00|       945|    null|       null|            CA|           201605|CHEV|        PA|   BR|      721 S WESTLAKE| 2A75|     1|        8069AA|     NO STOP/STAND AM|         93|\n",
      "|   1106506413|2015-12-22T00:00:00|      1100|    null|       null|            CA|           201701|NISS|        PA|   SI|     1159 HUNTLEY DR| 2A75|     1|        8069AA|     NO STOP/STAND AM|         93|\n",
      "|   1106506424|2015-12-22T00:00:00|      1100|    null|       null|            CA|           201511|FORD|        TR|   WH|     1159 HUNTLEY DR| 2A75|     1|        8069AA|     NO STOP/STAND AM|         93|\n",
      "|   1106506435|2015-12-22T00:00:00|      1105|    null|       null|            CA|           201701|CHRY|        PA|   GO|     1159 HUNTLEY DR| 2A75|     1|        8069AA|     NO STOP/STAND AM|         93|\n",
      "|   1106506446|2015-12-22T00:00:00|      1110|    null|       null|            CA|           201511| BMW|        PA|   BK|      1200 W MIRAMAR| 2A75|     1|        4000A1|   NO EVIDENCE OF REG|         50|\n",
      "|   1106549754|2015-12-15T00:00:00|       825|    null|       null|            CA|           201607|PTRB|        TR|   BK|           4TH/STATE| CM96|     1|         8069A| NO STOPPING/STANDING|         93|\n",
      "|   1107179581|2015-12-27T00:00:00|      1055|    null|       null|            CA|           201605|TOYO|        PA|   BK|3100 N HOLLYRIDGE DR| null|    54|         8058L|         PREF PARKING|         68|\n",
      "|   1107179592|2015-12-27T00:00:00|      1200|    null|       null|            CA|           201602|MBNZ|        PA|   BK|   3115 N BERENDO DR| null|    54|         8058L|         PREF PARKING|         68|\n",
      "|   1107179603|2015-12-27T00:00:00|      1400|    null|       null|            CA|           201611|NISS|        PA|   WH| 3100 N BEACHWOOD DR| null|    54|         8058L|         PREF PARKING|         68|\n",
      "|   1107539823|2015-09-16T00:00:00|      2120|    null|       null|            CA|           201502|NISS|        PA| null|      BLAINE/11TH PL|1FB95|     1|        4000A1|   NO EVIDENCE OF REG|         50|\n",
      "|   1107539834|2015-09-16T00:00:00|      1045|    null|       null|            CA|             null|CHEV|        PA|   BK|  1246 S FIGUEROA ST| 1L20|     1|        8069AP|     NO STOP/STAND PM|         93|\n",
      "|   1107780811|2015-12-22T00:00:00|      1102|    null|       null|            CA|           201606|HOND|        PA|   BK|       PLATA/RAMPART|  2A1|     1|         8069B|           NO PARKING|         73|\n",
      "+-------------+-------------------+----------+--------+-----------+--------------+-----------------+----+----------+-----+--------------------+-----+------+--------------+---------------------+-----------+\n",
      "only showing top 20 rows\n",
      "\n"
     ]
    }
   ],
   "source": [
    "drop_frame.show()"
   ]
  },
  {
   "cell_type": "code",
   "execution_count": 8,
   "metadata": {},
   "outputs": [
    {
     "name": "stdout",
     "output_type": "stream",
     "text": [
      "root\n",
      " |-- Ticket number: string (nullable = true)\n",
      " |-- Issue Date: string (nullable = true)\n",
      " |-- Issue time: string (nullable = true)\n",
      " |-- Meter Id: string (nullable = true)\n",
      " |-- Marked Time: string (nullable = true)\n",
      " |-- RP State Plate: string (nullable = true)\n",
      " |-- Plate Expiry Date: string (nullable = true)\n",
      " |-- Make: string (nullable = true)\n",
      " |-- Body Style: string (nullable = true)\n",
      " |-- Color: string (nullable = true)\n",
      " |-- Location: string (nullable = true)\n",
      " |-- Route: string (nullable = true)\n",
      " |-- Agency: string (nullable = true)\n",
      " |-- Violation code: string (nullable = true)\n",
      " |-- Violation Description: string (nullable = true)\n",
      " |-- Fine amount: float (nullable = true)\n",
      "\n"
     ]
    }
   ],
   "source": [
    "df2 = drop_frame.withColumn(\"Fine amount\",col(\"Fine amount\").cast(FloatType()))\n",
    "                        \n",
    "df2.printSchema()"
   ]
  },
  {
   "cell_type": "code",
   "execution_count": 9,
   "metadata": {},
   "outputs": [
    {
     "name": "stdout",
     "output_type": "stream",
     "text": [
      "+-----------+\n",
      "|Fine amount|\n",
      "+-----------+\n",
      "|       50.0|\n",
      "|       50.0|\n",
      "|       58.0|\n",
      "|       null|\n",
      "|       93.0|\n",
      "|       50.0|\n",
      "|      163.0|\n",
      "|      163.0|\n",
      "|       93.0|\n",
      "|       93.0|\n",
      "|       93.0|\n",
      "|       93.0|\n",
      "|       50.0|\n",
      "|       93.0|\n",
      "|       68.0|\n",
      "|       68.0|\n",
      "|       68.0|\n",
      "|       50.0|\n",
      "|       93.0|\n",
      "|       73.0|\n",
      "+-----------+\n",
      "only showing top 20 rows\n",
      "\n"
     ]
    }
   ],
   "source": [
    "df2.select(\"Fine amount\").show()"
   ]
  },
  {
   "cell_type": "code",
   "execution_count": 10,
   "metadata": {},
   "outputs": [
    {
     "name": "stdout",
     "output_type": "stream",
     "text": [
      "+-----------+\n",
      "|Fine amount|\n",
      "+-----------+\n",
      "|       50.0|\n",
      "|       50.0|\n",
      "|       58.0|\n",
      "|        0.0|\n",
      "|       93.0|\n",
      "|       50.0|\n",
      "|      163.0|\n",
      "|      163.0|\n",
      "|       93.0|\n",
      "|       93.0|\n",
      "|       93.0|\n",
      "|       93.0|\n",
      "|       50.0|\n",
      "|       93.0|\n",
      "|       68.0|\n",
      "|       68.0|\n",
      "|       68.0|\n",
      "|       50.0|\n",
      "|       93.0|\n",
      "|       73.0|\n",
      "+-----------+\n",
      "only showing top 20 rows\n",
      "\n"
     ]
    }
   ],
   "source": [
    "df2 = df2.fillna(0, subset=['Fine amount'])\n",
    "df2.select(\"Fine amount\").show()"
   ]
  },
  {
   "cell_type": "code",
   "execution_count": 11,
   "metadata": {},
   "outputs": [
    {
     "name": "stdout",
     "output_type": "stream",
     "text": [
      "Row(max(Fine amount)=505.0)\n"
     ]
    }
   ],
   "source": [
    "your_max_value = df2.agg({\"Fine amount\": \"max\"}).collect()[0]\n",
    "print(your_max_value)\n",
    "#print(linesWithSparkGDF)"
   ]
  },
  {
   "cell_type": "code",
   "execution_count": 12,
   "metadata": {},
   "outputs": [],
   "source": [
    "result = df2.where(col(\"Fine amount\") == 505.0)"
   ]
  },
  {
   "cell_type": "code",
   "execution_count": 13,
   "metadata": {},
   "outputs": [
    {
     "name": "stdout",
     "output_type": "stream",
     "text": [
      "DataFrame[Ticket number: string, Issue Date: string, Issue time: string, Meter Id: string, Marked Time: string, RP State Plate: string, Plate Expiry Date: string, Make: string, Body Style: string, Color: string, Location: string, Route: string, Agency: string, Violation code: string, Violation Description: string, Fine amount: float]\n"
     ]
    }
   ],
   "source": [
    "print(result)"
   ]
  },
  {
   "cell_type": "code",
   "execution_count": 14,
   "metadata": {},
   "outputs": [
    {
     "data": {
      "text/plain": [
       "[Row(Ticket number='1112999020', Issue Date='2016-02-27T00:00:00', Issue time='335', Meter Id=None, Marked Time=None, RP State Plate='CA', Plate Expiry Date='201605', Make='CHRY', Body Style='PA', Color='WH', Location='6200 S AVALON', Route='13A75', Agency='1', Violation code='558', Violation Description='8755**', Fine amount=505.0),\n",
       " Row(Ticket number='1109909205', Issue Date='2014-12-24T00:00:00', Issue time='110', Meter Id=None, Marked Time=None, RP State Plate='CA', Plate Expiry Date='201410', Make='HOND', Body Style=None, Color='BK', Location='6500 S AVALON BLVD', Route='13E3', Agency='1', Violation code='558', Violation Description='8755**', Fine amount=505.0),\n",
       " Row(Ticket number='1109909220', Issue Date='2014-12-24T00:00:00', Issue time='125', Meter Id=None, Marked Time=None, RP State Plate='CA', Plate Expiry Date='201507', Make='NISS', Body Style='PA', Color='BK', Location='617 E GAGE AV', Route='13E3', Agency='1', Violation code='558', Violation Description='8755**', Fine amount=505.0),\n",
       " Row(Ticket number='1109908925', Issue Date='2015-03-06T00:00:00', Issue time='2200', Meter Id=None, Marked Time=None, RP State Plate='CA', Plate Expiry Date='201510', Make='FORD', Body Style='PA', Color='RE', Location='1203 E 35TH ST', Route='13E3', Agency='1', Violation code='558', Violation Description='8755**', Fine amount=505.0),\n",
       " Row(Ticket number='1109908995', Issue Date='2015-03-07T00:00:00', Issue time='1220', Meter Id=None, Marked Time=None, RP State Plate='CA', Plate Expiry Date='201510', Make='FORD', Body Style='PA', Color='MA', Location='1203 E 35TH ST', Route='13E3', Agency='1', Violation code='558', Violation Description='8755**', Fine amount=505.0),\n",
       " Row(Ticket number='1109907271', Issue Date='2015-03-09T00:00:00', Issue time='610', Meter Id=None, Marked Time=None, RP State Plate='CA', Plate Expiry Date='201510', Make='FORD', Body Style='PA', Color='RE', Location='1201 E 35TH ST', Route='13E3', Agency='1', Violation code='558', Violation Description='8755**', Fine amount=505.0)]"
      ]
     },
     "execution_count": 14,
     "metadata": {},
     "output_type": "execute_result"
    }
   ],
   "source": [
    "df2.filter(df2['Fine amount'] == '505.0').collect()"
   ]
  },
  {
   "cell_type": "code",
   "execution_count": 15,
   "metadata": {},
   "outputs": [
    {
     "data": {
      "text/plain": [
       "6"
      ]
     },
     "execution_count": 15,
     "metadata": {},
     "output_type": "execute_result"
    }
   ],
   "source": [
    "df2.filter(df2['Fine amount'] == '505.0').count()"
   ]
  },
  {
   "cell_type": "markdown",
   "metadata": {},
   "source": [
    "## B.7 Show the top 20 most frequent vehicle makes, and their frequencies."
   ]
  },
  {
   "cell_type": "code",
   "execution_count": 16,
   "metadata": {},
   "outputs": [
    {
     "name": "stdout",
     "output_type": "stream",
     "text": [
      "+----+-------+\n",
      "|Make|  count|\n",
      "+----+-------+\n",
      "|TOYT|1531949|\n",
      "|HOND|1043276|\n",
      "|FORD| 807498|\n",
      "|NISS| 662097|\n",
      "|CHEV| 631413|\n",
      "| BMW| 422916|\n",
      "|MERZ| 376830|\n",
      "|VOLK| 316002|\n",
      "|HYUN| 285286|\n",
      "|DODG| 271590|\n",
      "|LEXS| 263269|\n",
      "| KIA| 217795|\n",
      "|JEEP| 214965|\n",
      "|AUDI| 179718|\n",
      "|MAZD| 169811|\n",
      "|OTHR| 154376|\n",
      "| GMC| 132788|\n",
      "|INFI| 120340|\n",
      "|CHRY| 120317|\n",
      "|ACUR| 111265|\n",
      "+----+-------+\n",
      "only showing top 20 rows\n",
      "\n"
     ]
    }
   ],
   "source": [
    "from pyspark.sql.functions import desc\n",
    "from pyspark.sql.functions import mean\n",
    "#sort_fine = df2.sort(desc(\"Fine amount\")).show(truncate=False)\n",
    "#df2.groupby('Make').count().show()\n",
    "#df2.groupBy('Make','Fine amount').count().sort(desc('count')).show()\n",
    "df2.groupBy('Make').count().sort(desc('count')).show(20)"
   ]
  },
  {
   "cell_type": "markdown",
   "metadata": {},
   "source": [
    "## B.8 Let’s expand some abbreviations in the color column. Create a User Defined Function to create a new column, ‘color long’, mapping the original colors to their corresponding values in the dictionary below. If there is no key matching the original color, use the original color. COLORS = { 'AL':'Aluminum', 'AM':'Amber', 'BG':'Beige', 'BK':'Black', 'BL':'Blue', 'BN':'Brown', 'BR':'Brown', 'BZ':'Bronze', 'CH':'Charcoal', 'DK':'Dark', 'GD':'Gold', 'GO':'Gold', 'GN':'Green', 'GY':'Gray', 'GT':'Granite', 'IV':'Ivory', 'LT':'Light', 'OL':'Olive', 'OR':'Orange', 'MR':'Maroon', 'PK':'Pink', 'RD':'Red', 'RE':'Red', 'SI':'Silver', 'SL':'Silver', 'SM':'Smoke', 'TN':'Tan', 'VT':'Violet', 'WT':'White', 'WH':'White', 'YL':'Yellow', 'YE':'Yellow', 'UN':'Unknown' }"
   ]
  },
  {
   "cell_type": "code",
   "execution_count": 17,
   "metadata": {},
   "outputs": [
    {
     "name": "stdout",
     "output_type": "stream",
     "text": [
      "+-----+\n",
      "|Color|\n",
      "+-----+\n",
      "|   GY|\n",
      "|   WH|\n",
      "|   BK|\n",
      "|   WH|\n",
      "|   BK|\n",
      "|   GY|\n",
      "|   BL|\n",
      "|   BK|\n",
      "|   BR|\n",
      "|   SI|\n",
      "|   WH|\n",
      "|   GO|\n",
      "|   BK|\n",
      "|   BK|\n",
      "|   BK|\n",
      "|   BK|\n",
      "|   WH|\n",
      "| null|\n",
      "|   BK|\n",
      "|   BK|\n",
      "+-----+\n",
      "only showing top 20 rows\n",
      "\n"
     ]
    }
   ],
   "source": [
    "df2.select(\"Color\").show()"
   ]
  },
  {
   "cell_type": "code",
   "execution_count": 18,
   "metadata": {},
   "outputs": [],
   "source": [
    "#newDf = df2.withColumn('Color', regexp_replace('Color', 'lane', 'ln'))\n",
    "COLORS = { 'AL':'Aluminum', 'AM':'Amber', 'BG':'Beige', 'BK':'Black', 'BL':'Blue', 'BN':'Brown', 'BR':'Brown', 'BZ':'Bronze', 'CH':'Charcoal', 'DK':'Dark', 'GD':'Gold', 'GO':'Gold', 'GN':'Green', 'GY':'Gray', 'GT':'Granite', 'IV':'Ivory', 'LT':'Light', 'OL':'Olive', 'OR':'Orange', 'MR':'Maroon', 'PK':'Pink', 'RD':'Red', 'RE':'Red', 'SI':'Silver', 'SL':'Silver', 'SM':'Smoke', 'TN':'Tan', 'VT':'Violet', 'WT':'White', 'WH':'White', 'YL':'Yellow', 'YE':'Yellow', 'UN':'Unknown' }"
   ]
  },
  {
   "cell_type": "code",
   "execution_count": 19,
   "metadata": {},
   "outputs": [
    {
     "data": {
      "text/plain": [
       "{'AL': 'Aluminum',\n",
       " 'AM': 'Amber',\n",
       " 'BG': 'Beige',\n",
       " 'BK': 'Black',\n",
       " 'BL': 'Blue',\n",
       " 'BN': 'Brown',\n",
       " 'BR': 'Brown',\n",
       " 'BZ': 'Bronze',\n",
       " 'CH': 'Charcoal',\n",
       " 'DK': 'Dark',\n",
       " 'GD': 'Gold',\n",
       " 'GO': 'Gold',\n",
       " 'GN': 'Green',\n",
       " 'GY': 'Gray',\n",
       " 'GT': 'Granite',\n",
       " 'IV': 'Ivory',\n",
       " 'LT': 'Light',\n",
       " 'OL': 'Olive',\n",
       " 'OR': 'Orange',\n",
       " 'MR': 'Maroon',\n",
       " 'PK': 'Pink',\n",
       " 'RD': 'Red',\n",
       " 'RE': 'Red',\n",
       " 'SI': 'Silver',\n",
       " 'SL': 'Silver',\n",
       " 'SM': 'Smoke',\n",
       " 'TN': 'Tan',\n",
       " 'VT': 'Violet',\n",
       " 'WT': 'White',\n",
       " 'WH': 'White',\n",
       " 'YL': 'Yellow',\n",
       " 'YE': 'Yellow',\n",
       " 'UN': 'Unknown'}"
      ]
     },
     "execution_count": 19,
     "metadata": {},
     "output_type": "execute_result"
    }
   ],
   "source": [
    "COLORS"
   ]
  },
  {
   "cell_type": "code",
   "execution_count": 33,
   "metadata": {},
   "outputs": [
    {
     "name": "stdout",
     "output_type": "stream",
     "text": [
      "+----------+\n",
      "|color long|\n",
      "+----------+\n",
      "|      Gray|\n",
      "|     White|\n",
      "|     Black|\n",
      "|     White|\n",
      "|     Black|\n",
      "|      Gray|\n",
      "|      Blue|\n",
      "|     Black|\n",
      "|     Brown|\n",
      "|    Silver|\n",
      "|     White|\n",
      "|      Gold|\n",
      "|     Black|\n",
      "|     Black|\n",
      "|     Black|\n",
      "|     Black|\n",
      "|     White|\n",
      "|      null|\n",
      "|     Black|\n",
      "|     Black|\n",
      "+----------+\n",
      "only showing top 20 rows\n",
      "\n"
     ]
    }
   ],
   "source": [
    "df2 = df2.withColumn(\"color long\", df2[\"Color\"])\n",
    "df3 = df2.na.replace(COLORS,1,\"color long\")\n",
    "#df_with_x4 = df2.withColumn(\"color long\", df3.select(\"Color\"))\n",
    "df3.select(\"color long\").show()"
   ]
  },
  {
   "cell_type": "code",
   "execution_count": 34,
   "metadata": {},
   "outputs": [
    {
     "name": "stdout",
     "output_type": "stream",
     "text": [
      "+----+----------+------+\n",
      "|Make|color long| count|\n",
      "+----+----------+------+\n",
      "|TOYT|      Gray|346822|\n",
      "|TOYT|     White|304620|\n",
      "|TOYT|     Black|252199|\n",
      "|FORD|     White|251349|\n",
      "|TOYT|    Silver|248685|\n",
      "|HOND|      Gray|248084|\n",
      "|HOND|     Black|219925|\n",
      "|CHEV|     White|177794|\n",
      "|HOND|    Silver|169610|\n",
      "|NISS|      Gray|155402|\n",
      "|HOND|     White|149061|\n",
      "| BMW|     Black|144181|\n",
      "|FORD|     Black|144048|\n",
      "|NISS|     Black|131662|\n",
      "|TOYT|      Blue|128051|\n",
      "|MERZ|     Black|127613|\n",
      "|NISS|     White|125416|\n",
      "|CHEV|     Black|123644|\n",
      "|FORD|      Gray|119537|\n",
      "|NISS|    Silver|105073|\n",
      "+----+----------+------+\n",
      "only showing top 20 rows\n",
      "\n"
     ]
    }
   ],
   "source": [
    "df3.groupBy('Make','color long').count().sort(desc('count')).show()"
   ]
  },
  {
   "cell_type": "markdown",
   "metadata": {},
   "source": [
    "## B.9 Using this new column, what’s the most frequent colour value for Toyotas (TOYT)?"
   ]
  },
  {
   "cell_type": "code",
   "execution_count": 35,
   "metadata": {},
   "outputs": [
    {
     "name": "stdout",
     "output_type": "stream",
     "text": [
      "+----+----------+------+\n",
      "|Make|color long| count|\n",
      "+----+----------+------+\n",
      "|TOYT|      Gray|346822|\n",
      "|TOYT|     White|304620|\n",
      "|TOYT|     Black|252199|\n",
      "|TOYT|    Silver|248685|\n",
      "|TOYT|      Blue|128051|\n",
      "|TOYT|       Red| 84175|\n",
      "|TOYT|     Green| 57627|\n",
      "|TOYT|      Gold| 30154|\n",
      "|TOYT|    Maroon| 19882|\n",
      "|TOYT|       Tan| 17006|\n",
      "|TOYT|     Beige| 11572|\n",
      "|TOYT|        OT| 10805|\n",
      "|TOYT|     Brown|  8466|\n",
      "|TOYT|    Yellow|  3413|\n",
      "|TOYT|        PR|  3010|\n",
      "|TOYT|    Orange|  2527|\n",
      "|TOYT|   Unknown|  1343|\n",
      "|TOYT|        TU|  1077|\n",
      "|TOYT|        CO|   423|\n",
      "|TOYT|      Pink|    89|\n",
      "+----+----------+------+\n",
      "only showing top 20 rows\n",
      "\n"
     ]
    }
   ],
   "source": [
    "df3.filter(df3.Make == \"TOYT\").groupBy('Make','color long').count().sort(desc('count')).show()"
   ]
  },
  {
   "cell_type": "code",
   "execution_count": 36,
   "metadata": {},
   "outputs": [],
   "source": [
    "spark_context.stop()"
   ]
  }
 ],
 "metadata": {
  "kernelspec": {
   "display_name": "Python 3",
   "language": "python",
   "name": "python3"
  },
  "language_info": {
   "codemirror_mode": {
    "name": "ipython",
    "version": 3
   },
   "file_extension": ".py",
   "mimetype": "text/x-python",
   "name": "python",
   "nbconvert_exporter": "python",
   "pygments_lexer": "ipython3",
   "version": "3.7.3"
  }
 },
 "nbformat": 4,
 "nbformat_minor": 5
}
